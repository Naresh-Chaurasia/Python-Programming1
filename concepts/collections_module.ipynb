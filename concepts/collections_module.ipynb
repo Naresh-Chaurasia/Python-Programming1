{
 "cells": [
  {
   "cell_type": "code",
   "execution_count": null,
   "id": "95ff8e5a",
   "metadata": {},
   "outputs": [],
   "source": [
    "from collections import Counter\n",
    "\n",
    "# List of items\n",
    "fruits = ['apple', 'banana', 'apple', 'orange', 'banana', 'apple']\n",
    "\n",
    "# Count the occurrences of each item\n",
    "fruit_counter = Counter(fruits)\n",
    "\n",
    "print(fruit_counter)\n",
    "print(type(fruit_counter))\n",
    "\n",
    "# Output: Counter({'apple': 3, 'banana': 2, 'orange': 1})\n",
    "\n",
    "# Access count of a specific element\n",
    "print(fruit_counter['apple'])  # Output: 3\n",
    "print(fruit_counter['banana'])  # Output: 2\n",
    "\n",
    "# Access count of an element not in the Counter\n",
    "print(fruit_counter['grape'])  # Output: 0 (returns 0 for missing keys)\n",
    "\n",
    "# Get all elements as a dictionary\n",
    "print(dict(fruit_counter))  # Output: {'apple': 3, 'banana': 2, 'orange': 1}"
   ]
  },
  {
   "cell_type": "code",
   "execution_count": 9,
   "id": "3546d315",
   "metadata": {},
   "outputs": [
    {
     "data": {
      "text/plain": [
       "Counter({'a': 3, 'c': 3, 'b': 2, 'd': 2})"
      ]
     },
     "execution_count": 9,
     "metadata": {},
     "output_type": "execute_result"
    }
   ],
   "source": [
    "Counter('abcdaabccd')"
   ]
  }
 ],
 "metadata": {
  "kernelspec": {
   "display_name": "base",
   "language": "python",
   "name": "python3"
  },
  "language_info": {
   "codemirror_mode": {
    "name": "ipython",
    "version": 3
   },
   "file_extension": ".py",
   "mimetype": "text/x-python",
   "name": "python",
   "nbconvert_exporter": "python",
   "pygments_lexer": "ipython3",
   "version": "3.12.7"
  }
 },
 "nbformat": 4,
 "nbformat_minor": 5
}
