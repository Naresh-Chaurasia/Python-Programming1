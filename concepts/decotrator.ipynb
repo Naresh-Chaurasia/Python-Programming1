{
 "cells": [
  {
   "cell_type": "markdown",
   "id": "ebeeaaca",
   "metadata": {},
   "source": [
    "### Assigning Function as Objects"
   ]
  },
  {
   "cell_type": "code",
   "execution_count": 1,
   "id": "e4717114",
   "metadata": {},
   "outputs": [
    {
     "name": "stdout",
     "output_type": "stream",
     "text": [
      "Hello, World!\n"
     ]
    }
   ],
   "source": [
    "def hello_world():\n",
    "    print(\"Hello, World!\")\n",
    "\n",
    "# Call the function\n",
    "hello_world()"
   ]
  },
  {
   "cell_type": "code",
   "execution_count": 4,
   "id": "1efbcd0f",
   "metadata": {},
   "outputs": [],
   "source": [
    "# functions are objects that can be passed into other objects.\n",
    "hello = hello_world"
   ]
  },
  {
   "cell_type": "code",
   "execution_count": 5,
   "id": "76859283",
   "metadata": {},
   "outputs": [
    {
     "name": "stdout",
     "output_type": "stream",
     "text": [
      "Hello, World!\n"
     ]
    }
   ],
   "source": [
    "hello()"
   ]
  },
  {
   "cell_type": "markdown",
   "id": "cf8968b4",
   "metadata": {},
   "source": [
    "### Function Returing Another Function"
   ]
  },
  {
   "cell_type": "code",
   "execution_count": 6,
   "id": "13d2f122",
   "metadata": {},
   "outputs": [
    {
     "name": "stdout",
     "output_type": "stream",
     "text": [
      "Hello from the inner function!\n"
     ]
    }
   ],
   "source": [
    "def outer_function():\n",
    "    def inner_function():\n",
    "        print(\"Hello from the inner function!\")\n",
    "    return inner_function\n",
    "\n",
    "# Get the inner function\n",
    "my_function = outer_function()\n",
    "\n",
    "# Call the inner function\n",
    "my_function()"
   ]
  },
  {
   "cell_type": "markdown",
   "id": "12700190",
   "metadata": {},
   "source": [
    "### What you'll be doing is you're going to be using a web framework or someone else's library and just adding in these new decorators"
   ]
  },
  {
   "cell_type": "code",
   "execution_count": 7,
   "id": "c54b0263",
   "metadata": {},
   "outputs": [
    {
     "name": "stdout",
     "output_type": "stream",
     "text": [
      "Something is happening before the function is called.\n",
      "Hello!\n",
      "Something is happening after the function is called.\n"
     ]
    }
   ],
   "source": [
    "# This is the decorator function\n",
    "def my_decorator(func):\n",
    "    def wrapper():\n",
    "        print(\"Something is happening before the function is called.\")\n",
    "        func()  # original function\n",
    "        print(\"Something is happening after the function is called.\")\n",
    "    return wrapper\n",
    "\n",
    "def say_hello():\n",
    "    print(\"Hello!\")\n",
    "\n",
    "calling_decorator = my_decorator(say_hello)\n",
    "calling_decorator()"
   ]
  },
  {
   "cell_type": "code",
   "execution_count": 8,
   "id": "49dffa2a",
   "metadata": {},
   "outputs": [
    {
     "name": "stdout",
     "output_type": "stream",
     "text": [
      "Something is happening before the function is called.\n",
      "Hello!\n",
      "Something is happening after the function is called.\n"
     ]
    }
   ],
   "source": [
    "# This is the decorator function\n",
    "def my_decorator(func):\n",
    "    def wrapper():\n",
    "        print(\"Something is happening before the function is called.\")\n",
    "        func()  # original function\n",
    "        print(\"Something is happening after the function is called.\")\n",
    "    return wrapper\n",
    "\n",
    "# This is the function we want to decorate\n",
    "@my_decorator\n",
    "def say_hello():\n",
    "    print(\"Hello!\")\n",
    "\n",
    "# Calling the function\n",
    "say_hello()\n"
   ]
  }
 ],
 "metadata": {
  "kernelspec": {
   "display_name": "base",
   "language": "python",
   "name": "python3"
  },
  "language_info": {
   "codemirror_mode": {
    "name": "ipython",
    "version": 3
   },
   "file_extension": ".py",
   "mimetype": "text/x-python",
   "name": "python",
   "nbconvert_exporter": "python",
   "pygments_lexer": "ipython3",
   "version": "3.12.7"
  }
 },
 "nbformat": 4,
 "nbformat_minor": 5
}
