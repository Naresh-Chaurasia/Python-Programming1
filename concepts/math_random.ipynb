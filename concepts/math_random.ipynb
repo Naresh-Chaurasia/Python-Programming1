{
 "cells": [
  {
   "cell_type": "code",
   "execution_count": 1,
   "id": "0bb2e9fa",
   "metadata": {},
   "outputs": [
    {
     "name": "stdout",
     "output_type": "stream",
     "text": [
      "Square root of 16: 4.0\n",
      "Value of pi: 3.141592653589793\n",
      "Sine of 90 degrees: 1.0\n"
     ]
    }
   ],
   "source": [
    "import math\n",
    "\n",
    "# Calculate the square root of a number\n",
    "print(\"Square root of 16:\", math.sqrt(16))  # Output: 4.0\n",
    "\n",
    "# Calculate the value of pi\n",
    "print(\"Value of pi:\", math.pi)  # Output: 3.141592653589793\n",
    "\n",
    "# Calculate the sine of 90 degrees (converted to radians)\n",
    "print(\"Sine of 90 degrees:\", math.sin(math.radians(90)))  # Output: 1.0"
   ]
  },
  {
   "cell_type": "code",
   "execution_count": 2,
   "id": "43d6d50c",
   "metadata": {},
   "outputs": [
    {
     "name": "stdout",
     "output_type": "stream",
     "text": [
      "Random number between 0 and 1: 0.9211585571928297\n",
      "Random integer between 1 and 10: 3\n",
      "Random fruit: banana\n"
     ]
    }
   ],
   "source": [
    "import random\n",
    "\n",
    "# Generate a random number between 0 and 1\n",
    "print(\"Random number between 0 and 1:\", random.random())\n",
    "\n",
    "# Generate a random integer between 1 and 10\n",
    "print(\"Random integer between 1 and 10:\", random.randint(1, 10))\n",
    "\n",
    "# Choose a random element from a list\n",
    "fruits = [\"apple\", \"banana\", \"orange\", \"grape\"]\n",
    "print(\"Random fruit:\", random.choice(fruits))"
   ]
  }
 ],
 "metadata": {
  "kernelspec": {
   "display_name": "base",
   "language": "python",
   "name": "python3"
  },
  "language_info": {
   "codemirror_mode": {
    "name": "ipython",
    "version": 3
   },
   "file_extension": ".py",
   "mimetype": "text/x-python",
   "name": "python",
   "nbconvert_exporter": "python",
   "pygments_lexer": "ipython3",
   "version": "3.12.7"
  }
 },
 "nbformat": 4,
 "nbformat_minor": 5
}
