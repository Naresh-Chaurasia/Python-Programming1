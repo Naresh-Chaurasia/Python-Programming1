{
 "cells": [
  {
   "cell_type": "code",
   "execution_count": 2,
   "id": "0b8c9eb1",
   "metadata": {},
   "outputs": [
    {
     "name": "stderr",
     "output_type": "stream",
     "text": [
      "ffmpeg version 7.1.1 Copyright (c) 2000-2025 the FFmpeg developers\n",
      "  built with Apple clang version 16.0.0 (clang-1600.0.26.6)\n",
      "  configuration: --prefix=/opt/homebrew/Cellar/ffmpeg/7.1.1_1 --enable-shared --enable-pthreads --enable-version3 --cc=clang --host-cflags= --host-ldflags='-Wl,-ld_classic' --enable-ffplay --enable-gnutls --enable-gpl --enable-libaom --enable-libaribb24 --enable-libbluray --enable-libdav1d --enable-libharfbuzz --enable-libjxl --enable-libmp3lame --enable-libopus --enable-librav1e --enable-librist --enable-librubberband --enable-libsnappy --enable-libsrt --enable-libssh --enable-libsvtav1 --enable-libtesseract --enable-libtheora --enable-libvidstab --enable-libvmaf --enable-libvorbis --enable-libvpx --enable-libwebp --enable-libx264 --enable-libx265 --enable-libxml2 --enable-libxvid --enable-lzma --enable-libfontconfig --enable-libfreetype --enable-frei0r --enable-libass --enable-libopencore-amrnb --enable-libopencore-amrwb --enable-libopenjpeg --enable-libspeex --enable-libsoxr --enable-libzmq --enable-libzimg --disable-libjack --disable-indev=jack --enable-videotoolbox --enable-audiotoolbox --enable-neon\n",
      "  libavutil      59. 39.100 / 59. 39.100\n",
      "  libavcodec     61. 19.101 / 61. 19.101\n",
      "  libavformat    61.  7.100 / 61.  7.100\n",
      "  libavdevice    61.  3.100 / 61.  3.100\n",
      "  libavfilter    10.  4.100 / 10.  4.100\n",
      "  libswscale      8.  3.100 /  8.  3.100\n",
      "  libswresample   5.  3.100 /  5.  3.100\n",
      "  libpostproc    58.  3.100 / 58.  3.100\n",
      "Input #0, mov,mp4,m4a,3gp,3g2,mj2, from 'API Rental Tools-05.April.2025.mov':\n",
      "  Metadata:\n",
      "    major_brand     : qt  \n",
      "    minor_version   : 0\n",
      "    compatible_brands: qt  \n",
      "    creation_time   : 2025-04-05T04:08:37.000000Z\n",
      "    com.apple.quicktime.make: Apple\n",
      "    com.apple.quicktime.model: MacBookPro18,3\n",
      "    com.apple.quicktime.software: macOS 15.1.1 (24B91)\n",
      "    com.apple.quicktime.creationdate: 2025-04-05T09:38:35+0530\n",
      "  Duration: 00:45:00.60, start: 0.000000, bitrate: 5111 kb/s\n",
      "  Stream #0:0[0x1](und): Video: h264 (Main) (avc1 / 0x31637661), yuv420p(tv, bt709, progressive), 3024x1964, 3158 kb/s, 60 fps, 60 tbr, 6k tbn (default)\n",
      "      Metadata:\n",
      "        creation_time   : 2025-04-05T04:08:37.000000Z\n",
      "        handler_name    : Core Media Video\n",
      "        vendor_id       : [0][0][0][0]\n",
      "        encoder         : H.264\n",
      "  Stream #0:1[0x2](und): Audio: aac (LC) (mp4a / 0x6134706D), 44100 Hz, mono, fltp, 126 kb/s (default)\n",
      "      Metadata:\n",
      "        creation_time   : 2025-04-05T04:08:37.000000Z\n",
      "        handler_name    : Core Media Audio\n",
      "        vendor_id       : [0][0][0][0]\n",
      "Stream mapping:\n",
      "  Stream #0:0 -> #0:0 (h264 (native) -> h264 (libx264))\n",
      "  Stream #0:1 -> #0:1 (aac (native) -> aac (native))\n",
      "Press [q] to stop, [?] for help\n",
      "[libx264 @ 0x13de05aa0] using cpu capabilities: ARMv8 NEON\n",
      "[libx264 @ 0x13de05aa0] profile High, level 5.2, 4:2:0, 8-bit\n",
      "[libx264 @ 0x13de05aa0] 264 - core 164 r3108 31e19f9 - H.264/MPEG-4 AVC codec - Copyleft 2003-2023 - http://www.videolan.org/x264.html - options: cabac=1 ref=3 deblock=1:0:0 analyse=0x3:0x113 me=hex subme=7 psy=1 psy_rd=1.00:0.00 mixed_ref=1 me_range=16 chroma_me=1 trellis=1 8x8dct=1 cqm=0 deadzone=21,11 fast_pskip=1 chroma_qp_offset=-2 threads=15 lookahead_threads=2 sliced_threads=0 nr=0 decimate=1 interlaced=0 bluray_compat=0 constrained_intra=0 bframes=3 b_pyramid=2 b_adapt=1 b_bias=0 direct=1 weightb=1 open_gop=0 weightp=2 keyint=250 keyint_min=25 scenecut=40 intra_refresh=0 rc_lookahead=40 rc=crf mbtree=1 crf=23.0 qcomp=0.60 qpmin=0 qpmax=69 qpstep=4 ip_ratio=1.40 aq=1:1.00\n",
      "Output #0, mp4, to 'API Rental Tools-05.April.2025.mov.mp4':\n",
      "  Metadata:\n",
      "    major_brand     : qt  \n",
      "    minor_version   : 0\n",
      "    compatible_brands: qt  \n",
      "    com.apple.quicktime.creationdate: 2025-04-05T09:38:35+0530\n",
      "    com.apple.quicktime.make: Apple\n",
      "    com.apple.quicktime.model: MacBookPro18,3\n",
      "    com.apple.quicktime.software: macOS 15.1.1 (24B91)\n",
      "    encoder         : Lavf61.7.100\n",
      "  Stream #0:0(und): Video: h264 (avc1 / 0x31637661), yuv420p(tv, bt709, progressive), 3024x1964, q=2-31, 60 fps, 15360 tbn (default)\n",
      "      Metadata:\n",
      "        creation_time   : 2025-04-05T04:08:37.000000Z\n",
      "        handler_name    : Core Media Video\n",
      "        vendor_id       : [0][0][0][0]\n",
      "        encoder         : Lavc61.19.101 libx264\n",
      "      Side data:\n",
      "        cpb: bitrate max/min/avg: 0/0/0 buffer size: 0 vbv_delay: N/A\n",
      "  Stream #0:1(und): Audio: aac (LC) (mp4a / 0x6134706D), 44100 Hz, mono, fltp, 69 kb/s (default)\n",
      "      Metadata:\n",
      "        creation_time   : 2025-04-05T04:08:37.000000Z\n",
      "        handler_name    : Core Media Audio\n",
      "        vendor_id       : [0][0][0][0]\n",
      "        encoder         : Lavc61.19.101 aac\n",
      "[out#0/mp4 @ 0x13e80e5b0] video:211208KiB audio:22923KiB subtitle:0KiB other streams:0KiB global headers:0KiB muxing overhead: 1.847261%\n",
      "frame=162027 fps=151 q=-1.0 Lsize=  238456KiB time=00:45:00.56 bitrate= 723.3kbits/s speed=2.51x    \n",
      "[libx264 @ 0x13de05aa0] frame I:695   Avg QP:17.85  size:156403\n",
      "[libx264 @ 0x13de05aa0] frame P:42242 Avg QP:18.30  size:  1568\n",
      "[libx264 @ 0x13de05aa0] frame B:119090 Avg QP:17.85  size:   347\n",
      "[libx264 @ 0x13de05aa0] consecutive B-frames:  1.4%  1.3%  1.3% 95.9%\n",
      "[libx264 @ 0x13de05aa0] mb I  I16..4: 33.4% 52.6% 14.1%\n",
      "[libx264 @ 0x13de05aa0] mb P  I16..4:  0.3%  0.3%  0.1%  P16..4:  0.3%  0.0%  0.0%  0.0%  0.0%    skip:99.0%\n",
      "[libx264 @ 0x13de05aa0] mb B  I16..4:  0.0%  0.0%  0.0%  B16..8:  0.6%  0.0%  0.0%  direct: 0.0%  skip:99.4%  L0:57.8% L1:42.1% BI: 0.1%\n",
      "[libx264 @ 0x13de05aa0] 8x8 transform intra:47.5% inter:43.2%\n",
      "[libx264 @ 0x13de05aa0] coded y,uvDC,uvAC intra: 10.4% 5.4% 4.0% inter: 0.0% 0.0% 0.0%\n",
      "[libx264 @ 0x13de05aa0] i16 v,h,dc,p: 50% 48%  2%  0%\n",
      "[libx264 @ 0x13de05aa0] i8 v,h,dc,ddl,ddr,vr,hd,vl,hu: 54% 10% 35%  0%  0%  0%  0%  0%  0%\n",
      "[libx264 @ 0x13de05aa0] i4 v,h,dc,ddl,ddr,vr,hd,vl,hu: 39% 21% 19%  3%  4%  4%  4%  3%  3%\n",
      "[libx264 @ 0x13de05aa0] i8c dc,h,v,p: 86% 12%  2%  0%\n",
      "[libx264 @ 0x13de05aa0] Weighted P-Frames: Y:0.1% UV:0.1%\n",
      "[libx264 @ 0x13de05aa0] ref P L0: 70.8%  7.5% 17.0%  4.7%  0.0%\n",
      "[libx264 @ 0x13de05aa0] ref B L0: 50.6% 47.9%  1.5%\n",
      "[libx264 @ 0x13de05aa0] ref B L1: 97.4%  2.6%\n",
      "[libx264 @ 0x13de05aa0] kb/s:640.67\n",
      "[aac @ 0x13e983ea0] Qavg: 195.262\n"
     ]
    },
    {
     "data": {
      "text/plain": [
       "CompletedProcess(args=['ffmpeg', '-i', 'API Rental Tools-05.April.2025.mov', '-vcodec', 'libx264', '-acodec', 'aac', 'API Rental Tools-05.April.2025.mov.mp4'], returncode=0)"
      ]
     },
     "execution_count": 2,
     "metadata": {},
     "output_type": "execute_result"
    }
   ],
   "source": [
    "import subprocess\n",
    "\n",
    "input_file = \"API Rental Tools-05.April.2025.mov\"\n",
    "output_file = \"API Rental Tools-05.April.2025.mov.mp4\"\n",
    "\n",
    "subprocess.run([\"ffmpeg\", \"-i\", input_file, \"-vcodec\", \"libx264\", \"-acodec\", \"aac\", output_file])\n"
   ]
  }
 ],
 "metadata": {
  "kernelspec": {
   "display_name": "base",
   "language": "python",
   "name": "python3"
  },
  "language_info": {
   "codemirror_mode": {
    "name": "ipython",
    "version": 3
   },
   "file_extension": ".py",
   "mimetype": "text/x-python",
   "name": "python",
   "nbconvert_exporter": "python",
   "pygments_lexer": "ipython3",
   "version": "3.12.7"
  }
 },
 "nbformat": 4,
 "nbformat_minor": 5
}
