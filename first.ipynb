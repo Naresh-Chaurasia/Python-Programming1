{
 "cells": [
  {
   "cell_type": "code",
   "execution_count": 1,
   "id": "3b0c8fa4",
   "metadata": {},
   "outputs": [],
   "source": [
    "connections = [\n",
    "    ('Amsterdam', 'Dublin', 100),\n",
    "    ('Amsterdam', 'Rome', 140),\n",
    "    ('Rome', 'Warsaw', 130),\n",
    "    ('Minsk', 'Prague', 95),\n",
    "    ('Stockholm', 'Rome', 190),\n",
    "    ('Copenhagen', 'Paris', 120),\n",
    "    ('Madrid', 'Rome', 135),\n",
    "    ('Lisbon', 'Rome', 170),\n",
    "    ('Dublin', 'Rome', 170)\n",
    "    ]"
   ]
  },
  {
   "cell_type": "code",
   "execution_count": null,
   "id": "5cdb4aae",
   "metadata": {},
   "outputs": [
    {
     "name": "stdout",
     "output_type": "stream",
     "text": [
      "Rome\n",
      "The connection is to Rome\n",
      "The connection is to Rome\n",
      "The connection is to Rome\n",
      "The connection is to Rome\n",
      "The connection is to Rome\n",
      "The average time to Rome is 161.0\n"
     ]
    }
   ],
   "source": [
    "t1= connections[1]\n",
    "print(t1[1])\n",
    "\n",
    "rome_number = 0\n",
    "total_time = 0\n",
    "\n",
    "for t1 in connections:\n",
    "    if (t1[1] == 'Rome'):\n",
    "        print('The connection is to Rome')\n",
    "        rome_number = rome_number + 1\n",
    "        total_time = total_time + t1[2]\n",
    "\n",
    "average_time = total_time / rome_number\n",
    "\n",
    "print('The average time to Rome is', average_time)"
   ]
  }
 ],
 "metadata": {
  "kernelspec": {
   "display_name": "base",
   "language": "python",
   "name": "python3"
  },
  "language_info": {
   "codemirror_mode": {
    "name": "ipython",
    "version": 3
   },
   "file_extension": ".py",
   "mimetype": "text/x-python",
   "name": "python",
   "nbconvert_exporter": "python",
   "pygments_lexer": "ipython3",
   "version": "3.12.7"
  }
 },
 "nbformat": 4,
 "nbformat_minor": 5
}
